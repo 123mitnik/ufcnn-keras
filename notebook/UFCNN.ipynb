{
 "cells": [
  {
   "cell_type": "code",
   "execution_count": 1,
   "metadata": {
    "collapsed": false
   },
   "outputs": [
    {
     "name": "stderr",
     "output_type": "stream",
     "text": [
      "Using TensorFlow backend.\n"
     ]
    }
   ],
   "source": [
    "from __future__ import absolute_import\n",
    "from __future__ import print_function\n",
    "import numpy as np\n",
    "from keras.preprocessing import sequence\n",
    "from keras.optimizers import SGD, RMSprop, Adagrad\n",
    "from keras.utils import np_utils\n",
    "from keras.models import Sequential, Graph\n",
    "from keras.layers.core import Dense, Dropout, Activation, TimeDistributedDense, Flatten, Reshape, Permute, Merge, LambdaMerge, Lambda"
   ]
  },
  {
   "cell_type": "code",
   "execution_count": 2,
   "metadata": {
    "collapsed": true
   },
   "outputs": [],
   "source": [
    "from keras.layers.convolutional import Convolution1D, MaxPooling1D, Convolution2D, MaxPooling2D, UpSampling1D, UpSampling2D"
   ]
  },
  {
   "cell_type": "code",
   "execution_count": 3,
   "metadata": {
    "collapsed": true
   },
   "outputs": [],
   "source": [
    "from keras.callbacks import ModelCheckpoint, Callback"
   ]
  },
  {
   "cell_type": "code",
   "execution_count": null,
   "metadata": {
    "collapsed": true
   },
   "outputs": [],
   "source": []
  },
  {
   "cell_type": "code",
   "execution_count": 4,
   "metadata": {
    "collapsed": true
   },
   "outputs": [],
   "source": [
    "sequence_length = 5000      # same as in Roni Mittelman's paper\n",
    "features = 4                # guess\n",
    "nb_filter = 150             # same as in Roni Mittelman's paper\n",
    "filter_length = 5           # same as in Roni Mittelman's paper\n",
    "output_dim = 3              # guess"
   ]
  },
  {
   "cell_type": "code",
   "execution_count": 5,
   "metadata": {
    "collapsed": true
   },
   "outputs": [],
   "source": [
    "UFCNN_1 = Graph()\n",
    "UFCNN_1.add_input(name='input', input_shape=(sequence_length, features))\n",
    "#########################################################\n",
    "UFCNN_1.add_node(Convolution1D(nb_filter=nb_filter, filter_length=filter_length, border_mode='same'), name='conv1', input='input')\n",
    "UFCNN_1.add_node(Activation('relu'), name='relu1', input='conv1')\n",
    "#########################################################\n",
    "UFCNN_1.add_node(Convolution1D(nb_filter=nb_filter, filter_length=filter_length, border_mode='same'), name='conv2', input='relu1')\n",
    "UFCNN_1.add_node(Activation('relu'), name='relu2', input='conv2')\n",
    "#########################################################\n",
    "UFCNN_1.add_node(Convolution1D(nb_filter=nb_filter, filter_length=filter_length, border_mode='same'), name='conv3', input='relu2')\n",
    "UFCNN_1.add_node(Activation('relu'), name='relu3', input='conv3')\n",
    "#########################################################\n",
    "UFCNN_1.add_node(Convolution1D(nb_filter=nb_filter, filter_length=filter_length, border_mode='same'), name='conv4', input='relu3')\n",
    "UFCNN_1.add_node(Activation('relu'), name='relu4', input='conv4')\n",
    "#########################################################\n",
    "UFCNN_1.add_node(Convolution1D(nb_filter=nb_filter,filter_length=filter_length, border_mode='same'),\n",
    "                 name='conv5',\n",
    "                 inputs=['relu2', 'relu4'],\n",
    "                 merge_mode='sum')\n",
    "UFCNN_1.add_node(Activation('relu'), name='relu5', input='conv5')\n",
    "#########################################################\n",
    "UFCNN_1.add_node(Convolution1D(nb_filter=nb_filter,filter_length=filter_length, border_mode='same'),\n",
    "                 name='conv6',\n",
    "                 inputs=['relu1', 'relu5'],\n",
    "                 merge_mode='sum')\n",
    "UFCNN_1.add_node(Activation('relu'), name='relu6', input='conv6')\n",
    "#########################################################\n",
    "UFCNN_1.add_node(Convolution1D(nb_filter=output_dim, filter_length=filter_length, border_mode='same'), name='conv7', input='relu6')\n",
    "#########################################################\n",
    "UFCNN_1.add_output(name='output', input='conv7')"
   ]
  },
  {
   "cell_type": "code",
   "execution_count": 6,
   "metadata": {
    "collapsed": true
   },
   "outputs": [],
   "source": [
    "UFCNN_1.compile(optimizer='rmsprop', loss={'output': 'categorical_crossentropy'})"
   ]
  },
  {
   "cell_type": "code",
   "execution_count": 7,
   "metadata": {
    "collapsed": false
   },
   "outputs": [],
   "source": [
    "def print_nodes_shapes(model):\n",
    "    for k, v in model.inputs.items():\n",
    "        print(\"{} : {} : {} : {}\".format(k, type(v), v.input_shape, v.output_shape))\n",
    "        \n",
    "    for k, v in model.nodes.items():\n",
    "        print(\"{} : {} : {} : {}\".format(k, type(v), v.input_shape, v.output_shape))\n",
    "        \n",
    "    for k, v in model.outputs.items():\n",
    "        print(\"{} : {} : {} : {}\".format(k, type(v), v.input_shape, v.output_shape))"
   ]
  },
  {
   "cell_type": "code",
   "execution_count": 8,
   "metadata": {
    "collapsed": false
   },
   "outputs": [
    {
     "name": "stdout",
     "output_type": "stream",
     "text": [
      "input : <class 'keras.layers.core.Layer'> : (None, 5000, 4) : (None, 5000, 4)\n",
      "conv1 : <class 'keras.layers.convolutional.Convolution1D'> : (None, 5000, 4) : (None, 5000, 150)\n",
      "relu1 : <class 'keras.layers.core.Activation'> : (None, 5000, 150) : (None, 5000, 150)\n",
      "conv2 : <class 'keras.layers.convolutional.Convolution1D'> : (None, 5000, 150) : (None, 5000, 150)\n",
      "relu2 : <class 'keras.layers.core.Activation'> : (None, 5000, 150) : (None, 5000, 150)\n",
      "conv3 : <class 'keras.layers.convolutional.Convolution1D'> : (None, 5000, 150) : (None, 5000, 150)\n",
      "relu3 : <class 'keras.layers.core.Activation'> : (None, 5000, 150) : (None, 5000, 150)\n",
      "conv4 : <class 'keras.layers.convolutional.Convolution1D'> : (None, 5000, 150) : (None, 5000, 150)\n",
      "relu4 : <class 'keras.layers.core.Activation'> : (None, 5000, 150) : (None, 5000, 150)\n",
      "conv5 : <class 'keras.layers.convolutional.Convolution1D'> : (None, 5000, 150) : (None, 5000, 150)\n",
      "relu5 : <class 'keras.layers.core.Activation'> : (None, 5000, 150) : (None, 5000, 150)\n",
      "conv6 : <class 'keras.layers.convolutional.Convolution1D'> : (None, 5000, 150) : (None, 5000, 150)\n",
      "relu6 : <class 'keras.layers.core.Activation'> : (None, 5000, 150) : (None, 5000, 150)\n",
      "conv7 : <class 'keras.layers.convolutional.Convolution1D'> : (None, 5000, 150) : (None, 5000, 3)\n",
      "output : <class 'keras.layers.convolutional.Convolution1D'> : (None, 5000, 150) : (None, 5000, 3)\n"
     ]
    }
   ],
   "source": [
    "print_nodes_shapes(UFCNN_1)"
   ]
  },
  {
   "cell_type": "code",
   "execution_count": 11,
   "metadata": {
    "collapsed": false
   },
   "outputs": [],
   "source": [
    "from IPython.display import SVG\n",
    "from keras.utils.visualize_util import to_graph\n",
    "from keras.utils.visualize_util import plot\n",
    "\n",
    "SVG(to_graph(UFCNN_1).create(prog='dot', format='svg'))\n",
    "plot(UFCNN_1, to_file='UFCNN/UFCNN_1.png')"
   ]
  },
  {
   "cell_type": "code",
   "execution_count": null,
   "metadata": {
    "collapsed": true
   },
   "outputs": [],
   "source": []
  }
 ],
 "metadata": {
  "kernelspec": {
   "display_name": "Python 2",
   "language": "python",
   "name": "python2"
  },
  "language_info": {
   "codemirror_mode": {
    "name": "ipython",
    "version": 2
   },
   "file_extension": ".py",
   "mimetype": "text/x-python",
   "name": "python",
   "nbconvert_exporter": "python",
   "pygments_lexer": "ipython2",
   "version": "2.7.11"
  }
 },
 "nbformat": 4,
 "nbformat_minor": 0
}
