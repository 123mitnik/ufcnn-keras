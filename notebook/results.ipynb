{
 "cells": [
  {
   "cell_type": "markdown",
   "metadata": {},
   "source": [
    "# Contents\n",
    "This notebook shows the results of different optimization runs. \n"
   ]
  },
  {
   "cell_type": "markdown",
   "metadata": {},
   "source": [
    "# Optimization 20 days\n",
    "\n",
    "| Name | Value \n",
    "| :- |-------------:|\n",
    "|Date:| 20160331 by Ernst\n",
    "|Days in Training:| 20\n",
    "|Days in Prediction:|10\n",
    "|Sequence Length:|500\n",
    "|Nr. of Features:|32\n",
    "|*Results*|\n",
    "|Nr. of Epochs:|3400\n",
    "|Runtime per Epoch:|8 sec\n",
    "|Last Training Loss:|0.06 / acc: 99.9 %\n",
    "|Typical Result:|\n",
    "|Sell Prediction C/P/T|2082/  5650/   5572\n",
    "|Buy Prediction C/P/T|2175/  5506/   7365\n",
    "|Pnl per Day:| Avg ca -400\n",
    "|Comment:| Error in Class assignment /  Buy & Sell mistake; Excellent Convergence"
   ]
  },
  {
   "cell_type": "markdown",
   "metadata": {},
   "source": [
    "# Optimization 20 days,  sequence len 5000\n",
    "\n",
    "| Name | Value \n",
    "| :- |-------------:|\n",
    "|Date:| 20160403 by Ernst, still in progress\n",
    "|Days in Training:| 20\n",
    "|Days in Prediction:|10\n",
    "|Sequence Length:|5000\n",
    "|Nr. of Features:|32\n",
    "|*Results*|\n",
    "|Nr. of Epochs:|800\n",
    "|Runtime per Epoch:|60 sec\n",
    "|Last Training Loss:|0.52 / 79.5 %\n",
    "|Typical Result:|\n",
    "|Sell Prediction C/P/T|1129/  2298/   5572\n",
    "|Buy Prediction C/P/T|1700/  2488/   7365\n",
    "|Pnl per Day:| Avg ca 60\n",
    "|Comment:| Error in Class assignment / Buy & Sell mistake , Convergence very bad\n"
   ]
  }
 ],
 "metadata": {
  "kernelspec": {
   "display_name": "Python 3",
   "language": "python",
   "name": "python3"
  },
  "language_info": {
   "codemirror_mode": {
    "name": "ipython",
    "version": 3
   },
   "file_extension": ".py",
   "mimetype": "text/x-python",
   "name": "python",
   "nbconvert_exporter": "python",
   "pygments_lexer": "ipython3",
   "version": "3.5.1"
  }
 },
 "nbformat": 4,
 "nbformat_minor": 0
}
